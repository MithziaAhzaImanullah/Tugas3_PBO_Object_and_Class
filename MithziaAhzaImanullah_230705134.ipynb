{
  "nbformat": 4,
  "nbformat_minor": 0,
  "metadata": {
    "colab": {
      "provenance": []
    },
    "kernelspec": {
      "name": "python3",
      "display_name": "Python 3"
    },
    "language_info": {
      "name": "python"
    }
  },
  "cells": [
    {
      "cell_type": "code",
      "execution_count": 6,
      "metadata": {
        "colab": {
          "base_uri": "https://localhost:8080/"
        },
        "id": "lXVCyHPMA3dP",
        "outputId": "bb203255-5c20-4d74-9371-58c025c28410"
      },
      "outputs": [
        {
          "output_type": "stream",
          "name": "stdout",
          "text": [
            "Budi Details:\n",
            "Rambut:  Ikal\n",
            "Warna:  Hitam\n",
            "\n",
            "Micaheal details: \n",
            "Rambut: Lurus\n",
            "Warna:  Pirang\n"
          ]
        }
      ],
      "source": [
        "class person:\n",
        "  person = 'Person'\n",
        "\n",
        "  def __init__(self, rambut, warna):\n",
        "    self.rambut = rambut\n",
        "    self.warna = warna\n",
        "\n",
        "Budi = person(\"Ikal\",\"Hitam\")\n",
        "Michael = person(\"Lurus\", \"Pirang\")\n",
        "\n",
        "print('Budi Details:')\n",
        "print('Rambut: ', Budi.rambut)\n",
        "print('Warna: ', Budi.warna)\n",
        "\n",
        "print('\\nMicaheal details: ')\n",
        "print('Rambut:', Michael.rambut)\n",
        "print('Warna: ', Michael.warna)"
      ]
    }
  ]
}